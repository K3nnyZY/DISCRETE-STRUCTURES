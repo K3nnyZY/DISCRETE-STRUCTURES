{
 "cells": [
  {
   "cell_type": "code",
   "execution_count": 58,
   "metadata": {},
   "outputs": [],
   "source": [
    "import sympy as sp\n",
    "from IPython.display import display, Math"
   ]
  },
  {
   "cell_type": "markdown",
   "metadata": {},
   "source": [
    "# FGO"
   ]
  },
  {
   "cell_type": "code",
   "execution_count": 59,
   "metadata": {},
   "outputs": [
    {
     "name": "stdout",
     "output_type": "stream",
     "text": [
      "La FGO f(z):\n"
     ]
    },
    {
     "data": {
      "text/latex": [
       "$\\displaystyle \\frac{z}{1 - z^{2}}$"
      ],
      "text/plain": [
       "<IPython.core.display.Math object>"
      ]
     },
     "metadata": {},
     "output_type": "display_data"
    },
    {
     "name": "stdout",
     "output_type": "stream",
     "text": [
      "Sucesion, o secuencia generadora: [0, 1, 0, 1, 0, 1, 0, 1, 0, 1, 0, 1, 0, 1]\n"
     ]
    }
   ],
   "source": [
    "z = sp.symbols('z')\n",
    "f= ((z)/(1-z**2))\n",
    "\n",
    "print(\"La FGO f(z):\")\n",
    "display(Math(sp.latex(f)))\n",
    "\n",
    "fz = sp.Poly(f.series(z, 0, 15).removeO())\n",
    "fn = fz.all_coeffs()\n",
    "print(\"Sucesion, o secuencia generadora:\", fn[::-1])\n"
   ]
  },
  {
   "cell_type": "markdown",
   "metadata": {},
   "source": [
    "## Fraccion parcial\n"
   ]
  },
  {
   "cell_type": "code",
   "execution_count": 60,
   "metadata": {},
   "outputs": [
    {
     "data": {
      "text/latex": [
       "$\\displaystyle \\frac{1}{4 \\left(z + 1\\right)} - \\frac{5}{4 \\left(z - 1\\right)} + \\frac{1}{2 \\left(z - 1\\right)^{2}}$"
      ],
      "text/plain": [
       "<IPython.core.display.Math object>"
      ]
     },
     "metadata": {},
     "output_type": "display_data"
    }
   ],
   "source": [
    "z=sp.symbols(\"z\")\n",
    "FGO=((2- z**2)/(1-z-z**2+z**3))\n",
    "display(Math(sp.latex((sp.apart(FGO)))))"
   ]
  },
  {
   "cell_type": "markdown",
   "metadata": {},
   "source": [
    "## Hallar funcion recurrente"
   ]
  },
  {
   "cell_type": "code",
   "execution_count": 68,
   "metadata": {},
   "outputs": [
    {
     "data": {
      "text/plain": [
       "[1, 1, -1]"
      ]
     },
     "execution_count": 68,
     "metadata": {},
     "output_type": "execute_result"
    }
   ],
   "source": [
    "from sympy.abc import n # otra forma de crear variable\n",
    "\n",
    "n = sp.symbols('n')\n",
    "L =[2,2,3,3,4,4,5,5]\n",
    "sp.sequence(L, (n, 0, len(L))).find_linear_recurrence(len(L))"
   ]
  },
  {
   "cell_type": "markdown",
   "metadata": {},
   "source": [
    "## Prueba de FGO PC01"
   ]
  },
  {
   "cell_type": "code",
   "execution_count": 62,
   "metadata": {},
   "outputs": [
    {
     "data": {
      "text/latex": [
       "$\\displaystyle f(x) \\approx \\frac{2 c \\left(1 - 4 z\\right)^{0.5} + 1}{2 z} $"
      ],
      "text/plain": [
       "<IPython.core.display.Math object>"
      ]
     },
     "metadata": {},
     "output_type": "display_data"
    },
    {
     "data": {
      "text/latex": [
       "$\\displaystyle f(x) \\approx \\frac{c + \\frac{1}{2}}{z} - 2.0 c - 2.0 c z - 4.0 c z^{2} - 10.0 c z^{3} - 28.0 c z^{4} - 84.0 c z^{5} + O\\left(z^{6}\\right) $"
      ],
      "text/plain": [
       "<IPython.core.display.Math object>"
      ]
     },
     "metadata": {},
     "output_type": "display_data"
    }
   ],
   "source": [
    "z,c = sp.symbols('z c')\n",
    "f = ((2*c*(1-4*z)**(1/2)+1)/(2*z))\n",
    "\n",
    "# Generamos la serie de Taylor centrada en 0 y hasta el término x^4\n",
    "taylor_series = f.series(z, 0, 6)\n",
    "\n",
    "# Mostramos la serie de Taylor y la aproximación\n",
    "display(Math(f\"f(x) \\\\approx {sp.latex(f)} \"))\n",
    "display(Math(f\"f(x) \\\\approx {sp.latex(taylor_series)} \"))"
   ]
  },
  {
   "cell_type": "code",
   "execution_count": 64,
   "metadata": {},
   "outputs": [
    {
     "name": "stdout",
     "output_type": "stream",
     "text": [
      "f(3) = 2\n",
      "f(4) = 2\n",
      "f(5) = 3\n",
      "f(6) = 3\n",
      "f(7) = 4\n",
      "f(8) = 4\n",
      "f(9) = 5\n",
      "f(10) = 5\n",
      "f(11) = 6\n",
      "f(12) = 6\n",
      "f(13) = 7\n",
      "f(14) = 7\n",
      "f(15) = 8\n",
      "f(16) = 8\n",
      "f(17) = 9\n",
      "f(18) = 9\n",
      "f(19) = 10\n"
     ]
    }
   ],
   "source": [
    "def f(n):\n",
    "    if n < 3:\n",
    "        raise ValueError(\"n debe ser mayor o igual a 3\")\n",
    "    \n",
    "    total = 0\n",
    "    for k in range(n+1):\n",
    "        total += k * ((-1)**n) * ((-1)**k)\n",
    "    \n",
    "    return total\n",
    "\n",
    "# Calcula la secuencia hasta n = 5\n",
    "for n in range(3, 20):\n",
    "    print(f\"f({n}) = {f(n)}\")"
   ]
  },
  {
   "cell_type": "code",
   "execution_count": 65,
   "metadata": {},
   "outputs": [
    {
     "name": "stdout",
     "output_type": "stream",
     "text": [
      "f(0) = 2.0\n",
      "f(1) = 2.0\n",
      "f(2) = 3.0\n",
      "f(3) = 3.0\n",
      "f(4) = 4.0\n",
      "f(5) = 4.0\n",
      "f(6) = 5.0\n",
      "f(7) = 5.0\n",
      "f(8) = 6.0\n",
      "f(9) = 6.0\n"
     ]
    }
   ],
   "source": [
    "def f(n):\n",
    "    return ((-1)**n+2*n+7)/(4)\n",
    "\n",
    "# Mostrando los primeros 10 términos de la secuencia\n",
    "for n in range(10):\n",
    "    print(f\"f({n}) = {f(n)}\")"
   ]
  }
 ],
 "metadata": {
  "kernelspec": {
   "display_name": "Python 3",
   "language": "python",
   "name": "python3"
  },
  "language_info": {
   "codemirror_mode": {
    "name": "ipython",
    "version": 3
   },
   "file_extension": ".py",
   "mimetype": "text/x-python",
   "name": "python",
   "nbconvert_exporter": "python",
   "pygments_lexer": "ipython3",
   "version": "3.11.2"
  },
  "orig_nbformat": 4
 },
 "nbformat": 4,
 "nbformat_minor": 2
}
