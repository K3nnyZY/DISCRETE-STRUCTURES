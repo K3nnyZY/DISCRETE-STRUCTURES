{
 "cells": [
  {
   "cell_type": "code",
   "execution_count": 2,
   "metadata": {},
   "outputs": [],
   "source": [
    "import sympy as sp\n",
    "from IPython.display import display, Math\n",
    "import matplotlib.pyplot as plt\n",
    "import numpy as np\n",
    "from scipy.special import expi"
   ]
  },
  {
   "cell_type": "markdown",
   "metadata": {},
   "source": [
    "# FGO"
   ]
  },
  {
   "cell_type": "code",
   "execution_count": 14,
   "metadata": {},
   "outputs": [
    {
     "name": "stdout",
     "output_type": "stream",
     "text": [
      "La FGO f(z):\n"
     ]
    },
    {
     "data": {
      "text/latex": [
       "$\\displaystyle \\frac{z^{2}}{\\left(1 - 4 z\\right) \\left(z^{2} - 4 z + 1\\right)}$"
      ],
      "text/plain": [
       "<IPython.core.display.Math object>"
      ]
     },
     "metadata": {},
     "output_type": "display_data"
    },
    {
     "name": "stdout",
     "output_type": "stream",
     "text": [
      "Sucesion, o secuencia generadora: [0, 0, 1, 8, 47, 244, 1185, 5520, 24991, 110828, 483857, 2086744, 8911695, 37754340, 158882881, 664886048, 2769096767, 11485242844, 47466841905, 195561993960, 803500610671]\n"
     ]
    }
   ],
   "source": [
    "z = sp.symbols('z')\n",
    "f= (z**2)/((1-4*z+z**2)*(1-4*z))\n",
    "\n",
    "print(\"La FGO f(z):\")\n",
    "display(Math(sp.latex(f)))\n",
    "\n",
    "# Obtén la expansión en serie\n",
    "fz = f.series(z, 0, 21).removeO()\n",
    "\n",
    "# Extrae los coeficientes de la serie\n",
    "fn = [fz.coeff(z, i) for i in range(21)]\n",
    "\n",
    "print(\"Sucesion, o secuencia generadora:\", fn)"
   ]
  },
  {
   "cell_type": "markdown",
   "metadata": {},
   "source": [
    "## Fraccion parcial\n"
   ]
  },
  {
   "cell_type": "code",
   "execution_count": 3,
   "metadata": {},
   "outputs": [
    {
     "data": {
      "text/latex": [
       "$\\displaystyle \\frac{1}{4 \\left(z + 1\\right)} - \\frac{5}{4 \\left(z - 1\\right)} + \\frac{1}{2 \\left(z - 1\\right)^{2}} + \\frac{1}{z} + \\frac{1}{z^{2}}$"
      ],
      "text/plain": [
       "<IPython.core.display.Math object>"
      ]
     },
     "metadata": {},
     "output_type": "display_data"
    }
   ],
   "source": [
    "z=sp.symbols(\"z\")\n",
    "FGO=((1)/(z**2*(1-z-z**2+z**3)))\n",
    "display(Math(sp.latex((sp.apart(FGO)))))"
   ]
  },
  {
   "cell_type": "markdown",
   "metadata": {},
   "source": [
    "## Hallar funcion recurrente"
   ]
  },
  {
   "cell_type": "code",
   "execution_count": 4,
   "metadata": {},
   "outputs": [
    {
     "data": {
      "text/plain": [
       "[1, 1, -1]"
      ]
     },
     "execution_count": 4,
     "metadata": {},
     "output_type": "execute_result"
    }
   ],
   "source": [
    "from sympy.abc import n # otra forma de crear variable\n",
    "\n",
    "n = sp.symbols('n')\n",
    "L =[2,2,3,3,4,4,5,5]\n",
    "sp.sequence(L, (n, 0, len(L))).find_linear_recurrence(len(L))"
   ]
  },
  {
   "cell_type": "code",
   "execution_count": 5,
   "metadata": {},
   "outputs": [
    {
     "data": {
      "text/plain": [
       "[3, 1, -3]"
      ]
     },
     "execution_count": 5,
     "metadata": {},
     "output_type": "execute_result"
    }
   ],
   "source": [
    "import sympy as sp\n",
    "from sympy.abc import n as spn\n",
    " \n",
    "fn = (3*3**n - 2 - (-1)**n)/(8)  #f(n) no recurrente\n",
    "sp.sequence(fn.subs(n, spn)).find_linear_recurrence(10)"
   ]
  },
  {
   "cell_type": "markdown",
   "metadata": {},
   "source": [
    "## Prueba de FGO PC01"
   ]
  },
  {
   "cell_type": "code",
   "execution_count": 70,
   "metadata": {},
   "outputs": [
    {
     "data": {
      "text/latex": [
       "$\\displaystyle f(x) \\approx c + 2 z $"
      ],
      "text/plain": [
       "<IPython.core.display.Math object>"
      ]
     },
     "metadata": {},
     "output_type": "display_data"
    },
    {
     "data": {
      "text/latex": [
       "$\\displaystyle f(x) \\approx c + 2 z $"
      ],
      "text/plain": [
       "<IPython.core.display.Math object>"
      ]
     },
     "metadata": {},
     "output_type": "display_data"
    }
   ],
   "source": [
    "z,c = sp.symbols('z c')\n",
    "f = 2*z+c\n",
    "\n",
    "# Generamos la serie de Taylor centrada en 0 y hasta el término x^4\n",
    "taylor_series = f.series(z, 0, 6)\n",
    "\n",
    "# Mostramos la serie de Taylor y la aproximación\n",
    "display(Math(f\"f(x) \\\\approx {sp.latex(f)} \"))\n",
    "display(Math(f\"f(x) \\\\approx {sp.latex(taylor_series)} \"))"
   ]
  },
  {
   "cell_type": "code",
   "execution_count": null,
   "metadata": {},
   "outputs": [
    {
     "name": "stdout",
     "output_type": "stream",
     "text": [
      "f(3) = 2\n",
      "f(4) = 2\n",
      "f(5) = 3\n",
      "f(6) = 3\n",
      "f(7) = 4\n",
      "f(8) = 4\n",
      "f(9) = 5\n",
      "f(10) = 5\n",
      "f(11) = 6\n",
      "f(12) = 6\n",
      "f(13) = 7\n",
      "f(14) = 7\n",
      "f(15) = 8\n",
      "f(16) = 8\n",
      "f(17) = 9\n",
      "f(18) = 9\n",
      "f(19) = 10\n"
     ]
    }
   ],
   "source": [
    "def f(n):\n",
    "    if n < 3:\n",
    "        raise ValueError(\"n debe ser mayor o igual a 3\")\n",
    "    \n",
    "    total = 0\n",
    "    for k in range(n+1):\n",
    "        total += k * ((-1)**n) * ((-1)**k)\n",
    "    \n",
    "    return total\n",
    "\n",
    "# Calcula la secuencia hasta n = 5\n",
    "for n in range(3, 20):\n",
    "    print(f\"f({n}) = {f(n)}\")"
   ]
  },
  {
   "cell_type": "code",
   "execution_count": null,
   "metadata": {},
   "outputs": [
    {
     "name": "stdout",
     "output_type": "stream",
     "text": [
      "f(0) = 2.0\n",
      "f(1) = 2.0\n",
      "f(2) = 3.0\n",
      "f(3) = 3.0\n",
      "f(4) = 4.0\n",
      "f(5) = 4.0\n",
      "f(6) = 5.0\n",
      "f(7) = 5.0\n",
      "f(8) = 6.0\n",
      "f(9) = 6.0\n"
     ]
    }
   ],
   "source": [
    "def f(n):\n",
    "    return ((-1)**n+2*n+7)/(4)\n",
    "\n",
    "# Mostrando los primeros 10 términos de la secuencia\n",
    "for n in range(10):\n",
    "    print(f\"f({n}) = {f(n)}\")"
   ]
  },
  {
   "cell_type": "code",
   "execution_count": null,
   "metadata": {},
   "outputs": [
    {
     "data": {
      "text/plain": [
       "[2.0000000000000004,\n",
       " 3.0000000000000004,\n",
       " 5.0,\n",
       " 8.000000000000002,\n",
       " 13.000000000000005,\n",
       " 21.000000000000007,\n",
       " 34.000000000000014,\n",
       " 55.00000000000002,\n",
       " 89.00000000000004,\n",
       " 144.00000000000006]"
      ]
     },
     "execution_count": 9,
     "metadata": {},
     "output_type": "execute_result"
    }
   ],
   "source": [
    "f = [((5+3*(5)**(1/2))/10*(((1+(5)**(1/2))/2)**(n+1)) + ((5-3*(5)**(1/2))/10*(((1-(5)**(1/2))/2)**(n+1)))) for n in range(0,10)]\n",
    "f"
   ]
  },
  {
   "cell_type": "code",
   "execution_count": null,
   "metadata": {},
   "outputs": [
    {
     "data": {
      "text/plain": [
       "[-1.0, -1.5, -2.0, -2.0, 0.0, 8.0, 32.0, 96.0, 256.0]"
      ]
     },
     "execution_count": 10,
     "metadata": {},
     "output_type": "execute_result"
    }
   ],
   "source": [
    "f = [(-5/8 + 1/8*n)*2**n for n in range(1,10)]\n",
    "f"
   ]
  },
  {
   "cell_type": "code",
   "execution_count": 1,
   "metadata": {},
   "outputs": [
    {
     "data": {
      "text/plain": [
       "[0, 0, 1, 4, 11, 26, 57, 120, 247, 502]"
      ]
     },
     "execution_count": 1,
     "metadata": {},
     "output_type": "execute_result"
    }
   ],
   "source": [
    "f = [(2**(n))-(n+1) for n in range(10)]\n",
    "f"
   ]
  },
  {
   "cell_type": "code",
   "execution_count": null,
   "metadata": {},
   "outputs": [
    {
     "name": "stdout",
     "output_type": "stream",
     "text": [
      "El p-valor es: 0.9857\n"
     ]
    }
   ],
   "source": [
    "from scipy.stats import chi2\n",
    "\n",
    "# grados de libertad\n",
    "df = 41\n",
    "\n",
    "# valor observado\n",
    "x = 23.75\n",
    "\n",
    "# Calculamos el p-valor\n",
    "p_valor = 1 - chi2.cdf(x, df)\n",
    "\n",
    "print(f\"El p-valor es: {p_valor:.4f}\")"
   ]
  }
 ],
 "metadata": {
  "kernelspec": {
   "display_name": "Python 3",
   "language": "python",
   "name": "python3"
  },
  "language_info": {
   "codemirror_mode": {
    "name": "ipython",
    "version": 3
   },
   "file_extension": ".py",
   "mimetype": "text/x-python",
   "name": "python",
   "nbconvert_exporter": "python",
   "pygments_lexer": "ipython3",
   "version": "3.11.2"
  },
  "orig_nbformat": 4
 },
 "nbformat": 4,
 "nbformat_minor": 2
}
