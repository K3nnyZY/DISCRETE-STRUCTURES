{
 "cells": [
  {
   "cell_type": "code",
   "execution_count": 19,
   "metadata": {},
   "outputs": [],
   "source": [
    "import sympy as sp\n",
    "from IPython.display import display, Math, Latex"
   ]
  },
  {
   "cell_type": "code",
   "execution_count": 20,
   "metadata": {},
   "outputs": [
    {
     "name": "stdout",
     "output_type": "stream",
     "text": [
      "La FGO f(z):\n"
     ]
    },
    {
     "data": {
      "text/latex": [
       "$\\displaystyle \\frac{1 - \\left(1 - 4 z\\right)^{0.5}}{2 z}$"
      ],
      "text/plain": [
       "<IPython.core.display.Math object>"
      ]
     },
     "metadata": {},
     "output_type": "display_data"
    },
    {
     "name": "stdout",
     "output_type": "stream",
     "text": [
      "Sucesion, o secuencia generadora: [1.00000000000000, 1.00000000000000, 2.00000000000000, 5.00000000000000, 14.0000000000000, 42.0000000000000, 132.000000000000, 429.000000000000, 1430.00000000000, 4862.00000000000, 16796.0000000000, 58786.0000000000, 208012.000000000, 742900.000000000, 2674440.00000000]\n"
     ]
    }
   ],
   "source": [
    "z = sp.symbols('z')\n",
    "f=(1-(1-4*z)**(1/2))/(2*z)\n",
    "print(\"La FGO f(z):\")\n",
    "display(Math(sp.latex(f)))\n",
    "\n",
    "fz = sp.Poly(f.series(z, 0, 15).removeO())\n",
    "fn = fz.all_coeffs()\n",
    "print(\"Sucesion, o secuencia generadora:\", fn[::-1])"
   ]
  },
  {
   "cell_type": "markdown",
   "metadata": {},
   "source": [
    "## Fraccion parcial\n"
   ]
  },
  {
   "cell_type": "code",
   "execution_count": 21,
   "metadata": {},
   "outputs": [
    {
     "data": {
      "text/latex": [
       "$\\displaystyle - \\frac{z + 2}{z^{2} + z - 1}$"
      ],
      "text/plain": [
       "<IPython.core.display.Math object>"
      ]
     },
     "metadata": {},
     "output_type": "display_data"
    }
   ],
   "source": [
    "z=sp.symbols(\"z\")\n",
    "FGO=(2+z)/(1-z-z**2)\n",
    "display(Math(sp.latex((sp.apart(FGO)))))"
   ]
  },
  {
   "cell_type": "code",
   "execution_count": 27,
   "metadata": {},
   "outputs": [
    {
     "data": {
      "text/latex": [
       "$\\displaystyle \\frac{2}{\\left(1 - 2 z\\right)^{2}}$"
      ],
      "text/plain": [
       "2/(1 - 2*z)**2"
      ]
     },
     "execution_count": 27,
     "metadata": {},
     "output_type": "execute_result"
    }
   ],
   "source": [
    "sp.diff(1/(1-2*z))"
   ]
  },
  {
   "cell_type": "code",
   "execution_count": 34,
   "metadata": {},
   "outputs": [
    {
     "data": {
      "text/latex": [
       "$\\displaystyle f(x) \\approx \\frac{2 c \\left(1 - 4 z\\right)^{0.5} + 1}{2 z} $"
      ],
      "text/plain": [
       "<IPython.core.display.Math object>"
      ]
     },
     "metadata": {},
     "output_type": "display_data"
    },
    {
     "data": {
      "text/latex": [
       "$\\displaystyle f(x) \\approx \\frac{c + \\frac{1}{2}}{z} - 2.0 c - 2.0 c z - 4.0 c z^{2} - 10.0 c z^{3} - 28.0 c z^{4} - 84.0 c z^{5} + O\\left(z^{6}\\right) $"
      ],
      "text/plain": [
       "<IPython.core.display.Math object>"
      ]
     },
     "metadata": {},
     "output_type": "display_data"
    }
   ],
   "source": [
    "z,c = sp.symbols('z c')\n",
    "f = ((2*c*(1-4*z)**(1/2)+1)/(2*z))\n",
    "\n",
    "# Generamos la serie de Taylor centrada en 0 y hasta el término x^4\n",
    "taylor_series = f.series(z, 0, 6)\n",
    "\n",
    "# Mostramos la serie de Taylor y la aproximación\n",
    "display(Math(f\"f(x) \\\\approx {sp.latex(f)} \"))\n",
    "display(Math(f\"f(x) \\\\approx {sp.latex(taylor_series)} \"))"
   ]
  }
 ],
 "metadata": {
  "kernelspec": {
   "display_name": "Python 3",
   "language": "python",
   "name": "python3"
  },
  "language_info": {
   "codemirror_mode": {
    "name": "ipython",
    "version": 3
   },
   "file_extension": ".py",
   "mimetype": "text/x-python",
   "name": "python",
   "nbconvert_exporter": "python",
   "pygments_lexer": "ipython3",
   "version": "3.11.2"
  },
  "orig_nbformat": 4
 },
 "nbformat": 4,
 "nbformat_minor": 2
}
