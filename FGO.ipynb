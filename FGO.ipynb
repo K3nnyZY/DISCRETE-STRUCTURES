{
 "cells": [
  {
   "cell_type": "code",
   "execution_count": 164,
   "metadata": {},
   "outputs": [],
   "source": [
    "import sympy as sp\n",
    "from IPython.display import display, Math\n",
    "import matplotlib.pyplot as plt\n",
    "import numpy as np"
   ]
  },
  {
   "cell_type": "markdown",
   "metadata": {},
   "source": [
    "# FGO"
   ]
  },
  {
   "cell_type": "code",
   "execution_count": 152,
   "metadata": {},
   "outputs": [
    {
     "name": "stdout",
     "output_type": "stream",
     "text": [
      "La FGO f(z):\n"
     ]
    },
    {
     "data": {
      "text/latex": [
       "$\\displaystyle \\frac{9 z^{2} - 6 z + 1}{8 z^{2} - 8 z + 2}$"
      ],
      "text/plain": [
       "<IPython.core.display.Math object>"
      ]
     },
     "metadata": {},
     "output_type": "display_data"
    },
    {
     "name": "stdout",
     "output_type": "stream",
     "text": [
      "Sucesion, o secuencia generadora: [1/2, -1, -3/2, -2, -2, 0, 8, 32, 96, 256, 640, 1536, 3584, 8192, 18432]\n"
     ]
    }
   ],
   "source": [
    "z = sp.symbols('z')\n",
    "f= ((9*z**2-6*z+1)/((8*z**2-8*z+2)))\n",
    "\n",
    "print(\"La FGO f(z):\")\n",
    "display(Math(sp.latex(f)))\n",
    "\n",
    "fz = sp.Poly(f.series(z, 0, 15).removeO())\n",
    "fn = fz.all_coeffs()\n",
    "print(\"Sucesion, o secuencia generadora:\", fn[::-1])\n"
   ]
  },
  {
   "cell_type": "markdown",
   "metadata": {},
   "source": [
    "## Fraccion parcial\n"
   ]
  },
  {
   "cell_type": "code",
   "execution_count": 153,
   "metadata": {},
   "outputs": [
    {
     "data": {
      "text/latex": [
       "$\\displaystyle - \\frac{5}{5 z - 1} + \\frac{6}{4 z - 1}$"
      ],
      "text/plain": [
       "<IPython.core.display.Math object>"
      ]
     },
     "metadata": {},
     "output_type": "display_data"
    }
   ],
   "source": [
    "z=sp.symbols(\"z\")\n",
    "FGO=((10*z-1)/(1-9*z+20*z**2))\n",
    "display(Math(sp.latex((sp.apart(FGO)))))"
   ]
  },
  {
   "cell_type": "markdown",
   "metadata": {},
   "source": [
    "## Hallar funcion recurrente"
   ]
  },
  {
   "cell_type": "code",
   "execution_count": 154,
   "metadata": {},
   "outputs": [
    {
     "data": {
      "text/plain": [
       "[1, 1, -1]"
      ]
     },
     "execution_count": 154,
     "metadata": {},
     "output_type": "execute_result"
    }
   ],
   "source": [
    "from sympy.abc import n # otra forma de crear variable\n",
    "\n",
    "n = sp.symbols('n')\n",
    "L =[2,2,3,3,4,4,5,5]\n",
    "sp.sequence(L, (n, 0, len(L))).find_linear_recurrence(len(L))"
   ]
  },
  {
   "cell_type": "code",
   "execution_count": 155,
   "metadata": {},
   "outputs": [
    {
     "data": {
      "text/plain": [
       "[3, 1, -3]"
      ]
     },
     "execution_count": 155,
     "metadata": {},
     "output_type": "execute_result"
    }
   ],
   "source": [
    "import sympy as sp\n",
    "from sympy.abc import n as spn\n",
    " \n",
    "fn = (3*3**n - 2 - (-1)**n)/(8)  #f(n) no recurrente\n",
    "sp.sequence(fn.subs(n, spn)).find_linear_recurrence(10)"
   ]
  },
  {
   "cell_type": "markdown",
   "metadata": {},
   "source": [
    "## Prueba de FGO PC01"
   ]
  },
  {
   "cell_type": "code",
   "execution_count": 156,
   "metadata": {},
   "outputs": [
    {
     "data": {
      "text/latex": [
       "$\\displaystyle f(x) \\approx \\frac{2 c \\left(1 - 4 z\\right)^{0.5} + 1}{2 z} $"
      ],
      "text/plain": [
       "<IPython.core.display.Math object>"
      ]
     },
     "metadata": {},
     "output_type": "display_data"
    },
    {
     "data": {
      "text/latex": [
       "$\\displaystyle f(x) \\approx \\frac{c + \\frac{1}{2}}{z} - 2.0 c - 2.0 c z - 4.0 c z^{2} - 10.0 c z^{3} - 28.0 c z^{4} - 84.0 c z^{5} + O\\left(z^{6}\\right) $"
      ],
      "text/plain": [
       "<IPython.core.display.Math object>"
      ]
     },
     "metadata": {},
     "output_type": "display_data"
    }
   ],
   "source": [
    "z,c = sp.symbols('z c')\n",
    "f = ((2*c*(1-4*z)**(1/2)+1)/(2*z))\n",
    "\n",
    "# Generamos la serie de Taylor centrada en 0 y hasta el término x^4\n",
    "taylor_series = f.series(z, 0, 6)\n",
    "\n",
    "# Mostramos la serie de Taylor y la aproximación\n",
    "display(Math(f\"f(x) \\\\approx {sp.latex(f)} \"))\n",
    "display(Math(f\"f(x) \\\\approx {sp.latex(taylor_series)} \"))"
   ]
  },
  {
   "cell_type": "code",
   "execution_count": 157,
   "metadata": {},
   "outputs": [
    {
     "name": "stdout",
     "output_type": "stream",
     "text": [
      "f(3) = 2\n",
      "f(4) = 2\n",
      "f(5) = 3\n",
      "f(6) = 3\n",
      "f(7) = 4\n",
      "f(8) = 4\n",
      "f(9) = 5\n",
      "f(10) = 5\n",
      "f(11) = 6\n",
      "f(12) = 6\n",
      "f(13) = 7\n",
      "f(14) = 7\n",
      "f(15) = 8\n",
      "f(16) = 8\n",
      "f(17) = 9\n",
      "f(18) = 9\n",
      "f(19) = 10\n"
     ]
    }
   ],
   "source": [
    "def f(n):\n",
    "    if n < 3:\n",
    "        raise ValueError(\"n debe ser mayor o igual a 3\")\n",
    "    \n",
    "    total = 0\n",
    "    for k in range(n+1):\n",
    "        total += k * ((-1)**n) * ((-1)**k)\n",
    "    \n",
    "    return total\n",
    "\n",
    "# Calcula la secuencia hasta n = 5\n",
    "for n in range(3, 20):\n",
    "    print(f\"f({n}) = {f(n)}\")"
   ]
  },
  {
   "cell_type": "code",
   "execution_count": 158,
   "metadata": {},
   "outputs": [
    {
     "name": "stdout",
     "output_type": "stream",
     "text": [
      "f(0) = 2.0\n",
      "f(1) = 2.0\n",
      "f(2) = 3.0\n",
      "f(3) = 3.0\n",
      "f(4) = 4.0\n",
      "f(5) = 4.0\n",
      "f(6) = 5.0\n",
      "f(7) = 5.0\n",
      "f(8) = 6.0\n",
      "f(9) = 6.0\n"
     ]
    }
   ],
   "source": [
    "def f(n):\n",
    "    return ((-1)**n+2*n+7)/(4)\n",
    "\n",
    "# Mostrando los primeros 10 términos de la secuencia\n",
    "for n in range(10):\n",
    "    print(f\"f({n}) = {f(n)}\")"
   ]
  },
  {
   "cell_type": "code",
   "execution_count": 159,
   "metadata": {},
   "outputs": [
    {
     "data": {
      "text/plain": [
       "[2.0000000000000004,\n",
       " 3.0000000000000004,\n",
       " 5.0,\n",
       " 8.000000000000002,\n",
       " 13.000000000000005,\n",
       " 21.000000000000007,\n",
       " 34.000000000000014,\n",
       " 55.00000000000002,\n",
       " 89.00000000000004,\n",
       " 144.00000000000006]"
      ]
     },
     "execution_count": 159,
     "metadata": {},
     "output_type": "execute_result"
    }
   ],
   "source": [
    "f = [((5+3*(5)**(1/2))/10*(((1+(5)**(1/2))/2)**(n+1)) + ((5-3*(5)**(1/2))/10*(((1-(5)**(1/2))/2)**(n+1)))) for n in range(0,10)]\n",
    "f"
   ]
  },
  {
   "cell_type": "code",
   "execution_count": 160,
   "metadata": {},
   "outputs": [
    {
     "data": {
      "text/plain": [
       "[-1.0, -1.5, -2.0, -2.0, 0.0, 8.0, 32.0, 96.0, 256.0]"
      ]
     },
     "execution_count": 160,
     "metadata": {},
     "output_type": "execute_result"
    }
   ],
   "source": [
    "f = [(-5/8 + 1/8*n)*2**n for n in range(1,10)]\n",
    "f"
   ]
  },
  {
   "cell_type": "code",
   "execution_count": 161,
   "metadata": {},
   "outputs": [
    {
     "data": {
      "text/plain": [
       "[0.0, 1.0, 3.0, 10.0, 30.0, 91.0, 273.0, 820.0, 2460.0, 7381.0]"
      ]
     },
     "execution_count": 161,
     "metadata": {},
     "output_type": "execute_result"
    }
   ],
   "source": [
    "f = [(3*3**n - 2 - (-1)**n)/(8) for n in range(10)]\n",
    "f"
   ]
  },
  {
   "cell_type": "code",
   "execution_count": 169,
   "metadata": {},
   "outputs": [
    {
     "name": "stderr",
     "output_type": "stream",
     "text": [
      "No artists with labels found to put in legend.  Note that artists whose label start with an underscore are ignored when legend() is called with no argument.\n"
     ]
    },
    {
     "data": {
      "image/png": "[encoded data removed]",
      "text/plain": [
       "<Figure size 1200x600 with 2 Axes>"
      ]
     },
     "metadata": {},
     "output_type": "display_data"
    }
   ],
   "source": [
    "# Definimos la función no recurrente\n",
    "def f_non_recurrent(n):\n",
    "    return (3 * 3**n - 2 - (-1)**n) / 8\n",
    "\n",
    "# Definimos la función generadora ordinaria (FGO)\n",
    "def FGO(z):\n",
    "    return z / (1 - z**2 + 3*z**3)\n",
    "\n",
    "# Generamos un rango de valores para n (de 0 a 999)\n",
    "n_values = np.arange(0, 1000)\n",
    "\n",
    "z_values = np.arange(0, 1000)\n",
    "\n",
    "# Calculamos los valores de la función no recurrente y la FGO\n",
    "f_non_recurrent_values = f_non_recurrent(n_values)\n",
    "FGO_values = FGO(z_values)\n",
    "\n",
    "# Graficamos la función no recurrente\n",
    "plt.figure(figsize=(12, 6))\n",
    "plt.subplot(1, 2, 1)\n",
    "plt.stem(n_values, f_non_recurrent_values, label='Función no recurrente')\n",
    "plt.yscale('log') \n",
    "plt.xscale('log')  \n",
    "plt.xlabel('n')\n",
    "plt.ylabel('f(n)')\n",
    "plt.title('Función no recurrente')\n",
    "plt.grid(True)\n",
    "plt.legend()\n",
    "\n",
    "# Graficamos la FGO\n",
    "plt.subplot(1, 2, 2)\n",
    "plt.plot(z_values, FGO_values)\n",
    "plt.xlabel('z')\n",
    "plt.ylabel('F(z)')\n",
    "plt.title('Función Generadora Ordinaria')\n",
    "plt.grid(True)\n",
    "plt.legend()\n",
    "\n",
    "# Mostramos las gráficas\n",
    "plt.tight_layout()\n",
    "plt.show()"
   ]
  }
 ],
 "metadata": {
  "kernelspec": {
   "display_name": "Python 3",
   "language": "python",
   "name": "python3"
  },
  "language_info": {
   "codemirror_mode": {
    "name": "ipython",
    "version": 3
   },
   "file_extension": ".py",
   "mimetype": "text/x-python",
   "name": "python",
   "nbconvert_exporter": "python",
   "pygments_lexer": "ipython3",
   "version": "3.11.2"
  },
  "orig_nbformat": 4
 },
 "nbformat": 4,
 "nbformat_minor": 2
}
