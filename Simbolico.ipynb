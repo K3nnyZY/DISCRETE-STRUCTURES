{
 "cells": [
  {
   "cell_type": "markdown",
   "metadata": {},
   "source": [
    "# Metodo Simbolico"
   ]
  },
  {
   "cell_type": "code",
   "execution_count": 174,
   "metadata": {},
   "outputs": [],
   "source": [
    "def msnot11(z):\n",
    "    if not(z):\n",
    "        return True\n",
    "    else:\n",
    "        if z[0] == '1' and not(z[1:]):\n",
    "            return True\n",
    "        else:\n",
    "            if(z[0] == '0' or (z[1]=='0' and z[0]=='1')):\n",
    "                return msnot11(z[1:])\n",
    "            else:\n",
    "                return False"
   ]
  },
  {
   "cell_type": "markdown",
   "metadata": {},
   "source": [
    "### Prueba del método simbólico"
   ]
  },
  {
   "cell_type": "code",
   "execution_count": 175,
   "metadata": {},
   "outputs": [
    {
     "data": {
      "text/plain": [
       "True"
      ]
     },
     "execution_count": 175,
     "metadata": {},
     "output_type": "execute_result"
    }
   ],
   "source": [
    "msnot11('1010101')"
   ]
  },
  {
   "cell_type": "code",
   "execution_count": 176,
   "metadata": {},
   "outputs": [],
   "source": [
    "def msnot12(z):\n",
    "    if not z:\n",
    "        return True\n",
    "    else:\n",
    "        if z[:2] == '12':\n",
    "            return False\n",
    "        else:\n",
    "            return msnot12(z[1:])\n"
   ]
  },
  {
   "cell_type": "code",
   "execution_count": 177,
   "metadata": {},
   "outputs": [
    {
     "data": {
      "text/plain": [
       "False"
      ]
     },
     "execution_count": 177,
     "metadata": {},
     "output_type": "execute_result"
    }
   ],
   "source": [
    "msnot12('122011')"
   ]
  },
  {
   "cell_type": "code",
   "execution_count": 178,
   "metadata": {},
   "outputs": [],
   "source": [
    "def cad_sin_rest(z,retr):\n",
    "    if not z:\n",
    "        return True\n",
    "    else:\n",
    "        if z[:len(retr)] == retr:\n",
    "            return False\n",
    "        else:\n",
    "            return cad_sin_rest(z[1:], retr)"
   ]
  },
  {
   "cell_type": "code",
   "execution_count": 179,
   "metadata": {},
   "outputs": [
    {
     "data": {
      "text/plain": [
       "True"
      ]
     },
     "execution_count": 179,
     "metadata": {},
     "output_type": "execute_result"
    }
   ],
   "source": [
    "restr = '11'\n",
    "cad_sin_rest('120100102012',restr)"
   ]
  },
  {
   "cell_type": "markdown",
   "metadata": {},
   "source": [
    "#### binarias"
   ]
  },
  {
   "cell_type": "code",
   "execution_count": 49,
   "metadata": {},
   "outputs": [
    {
     "name": "stdout",
     "output_type": "stream",
     "text": [
      "37\n"
     ]
    }
   ],
   "source": [
    "def generate_binary_strings(n):\n",
    "    \"\"\"Genera todas las cadenas binarias de longitud n.\"\"\"\n",
    "    format_string = '{:0' + str(n) + 'b}'\n",
    "    return [format_string.format(i) for i in range(2**n)]\n",
    "\n",
    "def filter_strings(strings):\n",
    "    \"\"\"Filtra las cadenas que no contienen la subcadena '10'.\"\"\"\n",
    "    return [s for s in strings if '010' not in s]\n",
    "\n",
    "def main(n):\n",
    "    \"\"\"Genera y filtra cadenas binarias de longitud n.\"\"\"\n",
    "    all_strings = generate_binary_strings(n)\n",
    "    filtered_strings = filter_strings(all_strings)\n",
    "    return filtered_strings\n",
    "\n",
    "# Ejemplo de uso:\n",
    "n = 6 # Cambia este valor para generar cadenas de diferentes longitudes\n",
    "result = len(main(n))\n",
    "print(result)\n"
   ]
  },
  {
   "cell_type": "markdown",
   "metadata": {},
   "source": [
    "#### ternarias"
   ]
  },
  {
   "cell_type": "code",
   "execution_count": 4,
   "metadata": {},
   "outputs": [
    {
     "name": "stdout",
     "output_type": "stream",
     "text": [
      "[1, 3, 7, 16, 36, 81, 182, 409, 919, 2065]\n"
     ]
    }
   ],
   "source": [
    "def generate_ternary_strings(n):\n",
    "    \"\"\"Genera todas las cadenas ternarias de longitud n.\"\"\"\n",
    "    return [int_to_ternary(i).rjust(n, '0') for i in range(3**n)]\n",
    "\n",
    "def int_to_ternary(num):\n",
    "    \"\"\"Convierte un número entero a su representación ternaria.\"\"\"\n",
    "    if num == 0:\n",
    "        return '0'\n",
    "    digits = []\n",
    "    while num:\n",
    "        digits.append(str(num % 3))\n",
    "        num //= 3\n",
    "    return ''.join(digits[::-1])\n",
    "\n",
    "def filter_strings(strings):\n",
    "    \"\"\"Filtra las cadenas que no contienen la subcadena '10'.\"\"\"\n",
    "    return [s for s in strings if '00' not in s and '12' not in s]\n",
    "\n",
    "def main(n):\n",
    "    \"\"\"Genera y filtra cadenas ternarias de longitud n.\"\"\"\n",
    "    all_strings = generate_ternary_strings(n)\n",
    "    filtered_strings = filter_strings(all_strings)\n",
    "    return filtered_strings\n",
    "\n",
    "# Ejemplo de uso:\n",
    "n = 5 # Cambia este valor para generar cadenas de diferentes longitudes\n",
    "result = [len(main(n)) for n in range(10)]\n",
    "print(result)"
   ]
  },
  {
   "cell_type": "markdown",
   "metadata": {},
   "source": [
    "#### En general"
   ]
  },
  {
   "cell_type": "code",
   "execution_count": 2,
   "metadata": {},
   "outputs": [
    {
     "name": "stdout",
     "output_type": "stream",
     "text": [
      "[0, 0, 1, 8, 47, 244, 1185, 5520]\n"
     ]
    }
   ],
   "source": [
    "def generate_strings(n, base=5):\n",
    "    \"\"\"Genera todas las cadenas de longitud n.\"\"\"\n",
    "    return [int_to_base(i, base).rjust(n, '0') for i in range(base**n)]\n",
    "\n",
    "def int_to_base(num, base=5):\n",
    "    \"\"\"Convierte un número entero a la representacion de su base b.\"\"\"\n",
    "    if num == 0:\n",
    "        return '0'\n",
    "    digits = []\n",
    "    while num:\n",
    "        digits.append(str(num % base)) # Cambia por la base que quieras\n",
    "        num //= base\n",
    "    return ''.join(digits[::-1])\n",
    "\n",
    "def is_increasing(string):\n",
    "    \"\"\"Verifica si una cadena tiene caracteres en orden creciente.\"\"\"\n",
    "    for i in range(1, len(string)):\n",
    "        if string[i] < string[i-1]:\n",
    "            return False\n",
    "    return True\n",
    "\n",
    "def filter_strings(strings):\n",
    "    \"\"\"Filtra las cadenas que no están en orden creciente.\"\"\"\n",
    "    return [s for s in strings if '0' not in s and '12' in s]\n",
    "\n",
    "def main(n,base=5):\n",
    "    \"\"\"Genera y filtra cadenas cuaternarias de longitud n.\"\"\"\n",
    "    all_strings = generate_strings(n,base=5)\n",
    "    filtered_strings = filter_strings(all_strings)\n",
    "    return filtered_strings\n",
    "\n",
    "# Ejemplo de uso:\n",
    "n = 5 # Cambia este valor para generar cadenas de diferentes longitudes\n",
    "result = [len(main(n)) for n in range(8)]\n",
    "print(result)"
   ]
  },
  {
   "cell_type": "markdown",
   "metadata": {},
   "source": [
    "# Invariante"
   ]
  },
  {
   "cell_type": "code",
   "execution_count": 183,
   "metadata": {},
   "outputs": [
    {
     "name": "stdout",
     "output_type": "stream",
     "text": [
      "-2\n",
      "5\n",
      "12\n",
      "19\n",
      "26\n",
      "33\n",
      "40\n",
      "47\n",
      "54\n",
      "61\n",
      "68\n",
      "75\n",
      "82\n",
      "89\n",
      "96\n",
      "103\n",
      "110\n",
      "117\n",
      "124\n"
     ]
    }
   ],
   "source": [
    "def para(vi,vf,inc):\n",
    "    cont = vi\n",
    "    while cont <= vf:\n",
    "        print(cont)\n",
    "        cont += inc\n",
    "\n",
    "para(-2,127,7)"
   ]
  },
  {
   "cell_type": "code",
   "execution_count": 184,
   "metadata": {},
   "outputs": [
    {
     "name": "stdout",
     "output_type": "stream",
     "text": [
      "la invariante para cont es: [-2, 5, 12, 19, 26, 33, 40, 47, 54, 61, 68, 75, 82, 89, 96, 103, 110, 117, 124]\n"
     ]
    }
   ],
   "source": [
    "vf = 127\n",
    "vi = -2\n",
    "inc = 7\n",
    "n = (vf-vi)//inc + 1\n",
    "print('la invariante para cont es:', [vi + i*inc for i in range(n)])"
   ]
  },
  {
   "cell_type": "markdown",
   "metadata": {},
   "source": [
    "$x \\ge 0$ y $y \\ge 0$\n",
    "\n",
    "$r,q = x,0$"
   ]
  },
  {
   "cell_type": "code",
   "execution_count": 185,
   "metadata": {},
   "outputs": [
    {
     "name": "stdout",
     "output_type": "stream",
     "text": [
      "217\n",
      "210\n",
      "203\n",
      "196\n",
      "189\n",
      "182\n",
      "175\n",
      "168\n",
      "161\n",
      "154\n",
      "147\n",
      "140\n",
      "133\n",
      "126\n",
      "119\n",
      "112\n",
      "105\n",
      "98\n",
      "91\n",
      "84\n",
      "77\n",
      "70\n",
      "63\n",
      "56\n",
      "49\n",
      "42\n",
      "35\n",
      "28\n",
      "21\n",
      "14\n",
      "7\n",
      "la invariatnte para r es: [217, 210, 203, 196, 189, 182, 175, 168, 161, 154, 147, 140, 133, 126, 119, 112, 105, 98, 91, 84, 77, 70, 63, 56, 49, 42, 35, 28, 21, 14, 7, 0, -7, -14, -21, -28, -35, -42, -49, -56, -63, -70, -77, -84, -91, -98, -105, -112, -119, -126, -133, -140, -147, -154, -161, -168, -175, -182, -189, -196, -203, -210, -217, -224, -231, -238, -245, -252, -259, -266, -273, -280, -287, -294, -301, -308, -315, -322, -329, -336, -343, -350, -357, -364, -371, -378, -385, -392, -399, -406, -413, -420, -427, -434, -441, -448, -455, -462, -469, -476, -483, -490, -497, -504, -511, -518, -525, -532, -539, -546, -553, -560, -567, -574, -581, -588, -595, -602, -609, -616, -623, -630, -637, -644, -651, -658, -665, -672, -679, -686, -693, -700, -707, -714, -721, -728, -735, -742, -749, -756, -763, -770, -777, -784, -791, -798, -805, -812, -819, -826, -833, -840, -847, -854, -861, -868, -875, -882, -889, -896, -903, -910, -917, -924, -931, -938, -945, -952, -959, -966, -973, -980, -987, -994, -1001, -1008, -1015, -1022, -1029, -1036, -1043, -1050, -1057, -1064, -1071, -1078, -1085, -1092, -1099, -1106, -1113, -1120, -1127, -1134, -1141, -1148, -1155, -1162, -1169, -1176, -1183, -1190, -1197, -1204, -1211, -1218, -1225, -1232, -1239, -1246, -1253]\n"
     ]
    }
   ],
   "source": [
    "x = 217\n",
    "y = 7\n",
    "r,q = x,0\n",
    "inc=1\n",
    "while r >= y:\n",
    "    print(r)\n",
    "    r -= y\n",
    "    q += 1\n",
    "n = (x-y)//inc + 1\n",
    "print('la invariatnte para r es:', [x - q*y for q in range(n)])"
   ]
  },
  {
   "cell_type": "code",
   "execution_count": 186,
   "metadata": {},
   "outputs": [
    {
     "name": "stdout",
     "output_type": "stream",
     "text": [
      "0 0\n",
      "9 9\n",
      "18 18\n",
      "27 27\n",
      "36 36\n"
     ]
    }
   ],
   "source": [
    "b=4\n",
    "a=9\n",
    "r,n = 0,b\n",
    "inc = 1\n",
    "while (n>=0):\n",
    "    print(r, (b-n)*a)\n",
    "    r = r+a\n",
    "    n = n-1"
   ]
  }
 ],
 "metadata": {
  "kernelspec": {
   "display_name": "Python 3",
   "language": "python",
   "name": "python3"
  },
  "language_info": {
   "codemirror_mode": {
    "name": "ipython",
    "version": 3
   },
   "file_extension": ".py",
   "mimetype": "text/x-python",
   "name": "python",
   "nbconvert_exporter": "python",
   "pygments_lexer": "ipython3",
   "version": "3.11.2"
  },
  "orig_nbformat": 4
 },
 "nbformat": 4,
 "nbformat_minor": 2
}
