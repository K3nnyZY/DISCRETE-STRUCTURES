{
 "cells": [
  {
   "cell_type": "markdown",
   "metadata": {},
   "source": [
    "### Punto 1 Parcial G-02"
   ]
  },
  {
   "cell_type": "code",
   "execution_count": 44,
   "metadata": {},
   "outputs": [],
   "source": [
    "import numpy as np\n",
    "import sympy as sp\n",
    "from IPython.display import display, Math\n",
    "import math"
   ]
  },
  {
   "cell_type": "code",
   "execution_count": 2,
   "metadata": {},
   "outputs": [
    {
     "name": "stdout",
     "output_type": "stream",
     "text": [
      "{b0: 0, b1: 0, b2: -3/2, b3: 1/2}\n"
     ]
    }
   ],
   "source": [
    "from sympy import symbols, Eq, solve\n",
    "\n",
    "b0, b1, b2, b3 = symbols('b0 b1 b2 b3')\n",
    "\n",
    "# Definir las ecuaciones\n",
    "eq1 = Eq(8*b0 + b1 + 3*b2 + 9*b3, 0)\n",
    "eq2 = Eq(16*b0 + b1 + 4*b2 + 16*b3, 2)\n",
    "eq3 = Eq(32*b0 + b1 + 5*b2 + 25*b3, 5)\n",
    "eq4 = Eq(64*b0 + b1 +6*b2 + 36*b3, 9)\n",
    "\n",
    "# Resolver el sistema de ecuaciones\n",
    "solution = solve((eq1, eq2, eq3, eq4), (b0, b1, b2, b3))\n",
    "    \n",
    "print(solution)"
   ]
  },
  {
   "cell_type": "code",
   "execution_count": 3,
   "metadata": {},
   "outputs": [
    {
     "name": "stdout",
     "output_type": "stream",
     "text": [
      "[0.0, 2.0, 5.0, 6.0, -1.0, -28.0, -99.0, -262.0, -613.0, -1344.0]\n"
     ]
    }
   ],
   "source": [
    "def f(n):\n",
    "    return -3/8*2**n + 12 - 9*n + 2*n**2\n",
    "\n",
    "n = 10\n",
    "vr = np.zeros(n)\n",
    "for i in range(n):\n",
    "    vr[i] = f(i+3)\n",
    "\n",
    "print(list(vr))"
   ]
  },
  {
   "cell_type": "markdown",
   "metadata": {},
   "source": [
    "### Punto 2 parcial G-02"
   ]
  },
  {
   "cell_type": "code",
   "execution_count": 4,
   "metadata": {},
   "outputs": [
    {
     "name": "stdout",
     "output_type": "stream",
     "text": [
      "[ 3.93978906+0.j          0.87541905+0.61697976j  0.87541905-0.61697976j\n",
      " -1.        +0.j         -0.34531358+0.87515991j -0.34531358-0.87515991j]\n"
     ]
    }
   ],
   "source": [
    "raices = np.roots([1,-4,0,1,0,0,-4])\n",
    "print(raices)"
   ]
  },
  {
   "cell_type": "code",
   "execution_count": 5,
   "metadata": {},
   "outputs": [
    {
     "data": {
      "text/latex": [
       "$\\displaystyle \\left\\{ b_{0} : \\frac{1}{3}, \\  b_{1} : 0, \\  b_{2} : \\frac{2}{3}\\right\\}$"
      ],
      "text/plain": [
       "{b0: 1/3, b1: 0, b2: 2/3}"
      ]
     },
     "execution_count": 5,
     "metadata": {},
     "output_type": "execute_result"
    }
   ],
   "source": [
    "b0, b1, b2 = sp.symbols('b0 b1, b2')\n",
    "\n",
    "eq1 = Eq(b0 + b1 + b2, 1)\n",
    "eq2 = Eq(-b0 + 3.94*b1 + 2*b2, 1)\n",
    "eq3 = Eq(b0 + 3.94**2*b1 + 4*b2, 3)\n",
    "\n",
    "sol = sp.nsimplify(sp.solve((eq1,eq2,eq3),(b0,b1,b2)))\n",
    "sol"
   ]
  },
  {
   "cell_type": "markdown",
   "metadata": {},
   "source": [
    "### Punto 3"
   ]
  },
  {
   "cell_type": "code",
   "execution_count": 6,
   "metadata": {},
   "outputs": [
    {
     "data": {
      "text/latex": [
       "$\\displaystyle \\left\\{ b_{0} : \\frac{1}{2}, \\  b_{1} : \\frac{1}{2}\\right\\}$"
      ],
      "text/plain": [
       "{b0: 1/2, b1: 1/2}"
      ]
     },
     "execution_count": 6,
     "metadata": {},
     "output_type": "execute_result"
    }
   ],
   "source": [
    "b0, b1 = sp.symbols('b0 b1')\n",
    "\n",
    "eq1 = Eq(b0+3*b1,2)\n",
    "eq2 = Eq(b0+9*b1,5)\n",
    "\n",
    "sol = sp.nsimplify(sp.solve((eq1,eq2),(b0,b1)))\n",
    "\n",
    "sol"
   ]
  },
  {
   "cell_type": "code",
   "execution_count": 7,
   "metadata": {},
   "outputs": [],
   "source": [
    "b0, b1, b2, b3, b4, b5, b6 = sp.symbols('b0 b1 b2 b3 b4 b5 b6')\n",
    "n = sp.Symbol(\"n\")"
   ]
  },
  {
   "cell_type": "code",
   "execution_count": 8,
   "metadata": {},
   "outputs": [
    {
     "data": {
      "text/latex": [
       "$\\displaystyle \\left\\{ b_{0} : 0, \\  b_{1} : \\frac{1}{3}, \\  b_{2} : 0, \\  b_{3} : 0, \\  b_{4} : 0, \\  b_{5} : 0, \\  b_{6} : \\frac{2}{3}\\right\\}$"
      ],
      "text/plain": [
       "{b0: 0, b1: 1/3, b2: 0, b3: 0, b4: 0, b5: 0, b6: 2/3}"
      ]
     },
     "execution_count": 8,
     "metadata": {},
     "output_type": "execute_result"
    }
   ],
   "source": [
    "eq = b0*(3.93978906)**n + b1*(-1)**n + b2*(0.87541905+0.61697976j)**n + b3*(-0.34531358+0.87515991j)**n + b4*(0.87541905-0.61697976j)**n + b5*(-0.34531358-0.87515991j)**n + b6*(2)**n\n",
    "sol_eqs = [1,1,3,5,11,21,43]\n",
    "eqs = [Eq(eq.subs(n, i), sol_eqs[i]) for i in range(len(sol_eqs))]\n",
    "sol = sp.nsimplify(sp.solve(eqs,(b0,b1,b2,b3,b4,b5,b6)))\n",
    "sol"
   ]
  },
  {
   "cell_type": "code",
   "execution_count": 9,
   "metadata": {},
   "outputs": [
    {
     "name": "stdout",
     "output_type": "stream",
     "text": [
      "8⋅b₀ + b₁ + 3⋅b₂ + 9⋅b₃ = 0\n",
      "16⋅b₀ + b₁ + 4⋅b₂ + 16⋅b₃ = 2\n",
      "32⋅b₀ + b₁ + 5⋅b₂ + 25⋅b₃ = 5\n",
      "64⋅b₀ + b₁ + 6⋅b₂ + 36⋅b₃ = 9\n"
     ]
    },
    {
     "data": {
      "text/latex": [
       "$\\displaystyle \\left\\{ b_{0} : 0, \\  b_{1} : 0, \\  b_{2} : - \\frac{3}{2}, \\  b_{3} : \\frac{1}{2}\\right\\}$"
      ],
      "text/plain": [
       "{b0: 0, b1: 0, b2: -3/2, b3: 1/2}"
      ]
     },
     "execution_count": 9,
     "metadata": {},
     "output_type": "execute_result"
    }
   ],
   "source": [
    "n = sp.Symbol(\"n\")\n",
    "b0,b1,b2,b3 = sp.symbols(\"b0 b1 b2 b3\")\n",
    "fi = [0,2,5,9]\n",
    "sol = []\n",
    "\n",
    "eq = (b0*2**n)+(b1+b2*n+b3*n**2)*1**n\n",
    "\n",
    "for i in range(3,7):\n",
    "    sol.append(Eq(eq.subs(n,i), fi[i-3]))\n",
    "\n",
    "for i in sol:\n",
    "    sp.pprint(i)\n",
    "\n",
    "sols = sp.nsimplify(sp.solve(sol,(b0, b1, b2,b3)))\n",
    "\n",
    "sols"
   ]
  },
  {
   "cell_type": "code",
   "execution_count": 10,
   "metadata": {},
   "outputs": [
    {
     "name": "stdout",
     "output_type": "stream",
     "text": [
      "b₀ + b₂ + b₃ + b₄ + b₅ = 1\n",
      "-b₀ - b₁ + 2⋅b₂ + 5⋅b₃ + 7⋅b₄ - 2⋅b₅ - 2⋅b₆ = 1\n",
      "b₀ + 2⋅b₁ + 4⋅b₂ + 25⋅b₃ + 49⋅b₄ + 4⋅b₅ + 8⋅b₆ = 3\n",
      "-b₀ - 3⋅b₁ + 8⋅b₂ + 125⋅b₃ + 343⋅b₄ - 8⋅b₅ - 24⋅b₆ = 5\n",
      "b₀ + 4⋅b₁ + 16⋅b₂ + 625⋅b₃ + 2401⋅b₄ + 16⋅b₅ + 64⋅b₆ = 11\n",
      "-b₀ - 5⋅b₁ + 32⋅b₂ + 3125⋅b₃ + 16807⋅b₄ - 32⋅b₅ - 160⋅b₆ = 21\n",
      "b₀ + 6⋅b₁ + 64⋅b₂ + 15625⋅b₃ + 117649⋅b₄ + 64⋅b₅ + 384⋅b₆ = 43\n"
     ]
    },
    {
     "data": {
      "text/latex": [
       "$\\displaystyle \\left\\{ b_{0} : \\frac{1}{3}, \\  b_{1} : 0, \\  b_{2} : \\frac{2}{3}, \\  b_{3} : 0, \\  b_{4} : 0, \\  b_{5} : 0, \\  b_{6} : 0\\right\\}$"
      ],
      "text/plain": [
       "{b0: 1/3, b1: 0, b2: 2/3, b3: 0, b4: 0, b5: 0, b6: 0}"
      ]
     },
     "execution_count": 10,
     "metadata": {},
     "output_type": "execute_result"
    }
   ],
   "source": [
    "n, b0, b1, b2, b3,b4, b5, b6 = sp.symbols('n b0 b1 b2 b3 b4 b5 b6')\n",
    "eq = b0*(-1)**n + b1*n*(-1)**n + b2*(2)**n + b3*(5)**n + b4*(7)**n + b5*(-2)**n + b6*n*(-2)**n\n",
    "fi = [1,1,3,5,11,21,43]\n",
    "\n",
    "sol = [sp.Eq(eq.subs(n,i),fi[i]) for i in range(len(fi))]\n",
    "\n",
    "\n",
    "for i in sol:\n",
    "    sp.pprint(i)\n",
    "\n",
    "sol = sp.nsimplify(sp.solve(sol,(b0,b1,b2,b3,b4,b5,b6)))\n",
    "\n",
    "\n",
    "sol"
   ]
  },
  {
   "cell_type": "code",
   "execution_count": 67,
   "metadata": {},
   "outputs": [
    {
     "name": "stdout",
     "output_type": "stream",
     "text": [
      "[(1 - z)*(z + 1)]\n",
      "[-1.0, 1.0]\n"
     ]
    }
   ],
   "source": [
    "import sympy as sp\n",
    "\n",
    "# Definimos la variable y la función\n",
    "z = sp.symbols('z')\n",
    "FGO = z / ((1 + z) * (1 - z))\n",
    "\n",
    "denominators = [sp.fraction(k)[1] for k in FGO.as_coefficients_dict() if z in sp.fraction(k)[1].free_symbols]\n",
    "exc = np.array([sp.solve(sp.Eq(k, 0)) for k in denominators], dtype=np.float64).flatten()\n",
    "exc = [i for i in exc if -1<=i<=1]\n",
    "\n",
    "print(denominators)\n",
    "print(exc)"
   ]
  }
 ],
 "metadata": {
  "kernelspec": {
   "display_name": "Python 3",
   "language": "python",
   "name": "python3"
  },
  "language_info": {
   "codemirror_mode": {
    "name": "ipython",
    "version": 3
   },
   "file_extension": ".py",
   "mimetype": "text/x-python",
   "name": "python",
   "nbconvert_exporter": "python",
   "pygments_lexer": "ipython3",
   "version": "3.11.2"
  },
  "orig_nbformat": 4
 },
 "nbformat": 4,
 "nbformat_minor": 2
}
